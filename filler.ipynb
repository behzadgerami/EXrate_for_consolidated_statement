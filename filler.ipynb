{
 "cells": [
  {
   "cell_type": "code",
   "execution_count": 3,
   "metadata": {},
   "outputs": [
    {
     "name": "stdout",
     "output_type": "stream",
     "text": [
      "CSV file downloaded successfully to: data.csv\n"
     ]
    }
   ],
   "source": [
    "import requests\n",
    "\n",
    "# URL of the CSV file you want to download\n",
    "url = \"https://data-api.ecb.europa.eu/service/data/EXR?format=csvdata\"\n",
    "\n",
    "# Send an HTTP GET request to the URL\n",
    "response = requests.get(url)\n",
    "\n",
    "# Check if the request was successful (status code 200)\n",
    "if response.status_code == 200:\n",
    "    # Specify the local file path where you want to save the CSV file\n",
    "    local_file_path = 'data.csv'\n",
    "\n",
    "    # Open the local file in binary write mode and write the content of the response\n",
    "    with open(local_file_path, 'wb') as f:\n",
    "        f.write(response.content)\n",
    "    print(f'CSV file downloaded successfully to: {local_file_path}')\n",
    "else:\n",
    "    print('Failed to download CSV file')\n"
   ]
  },
  {
   "cell_type": "code",
   "execution_count": 4,
   "metadata": {},
   "outputs": [
    {
     "name": "stderr",
     "output_type": "stream",
     "text": [
      "C:\\Users\\behza\\AppData\\Local\\Temp\\ipykernel_39408\\3724256756.py:1: DeprecationWarning: \n",
      "Pyarrow will become a required dependency of pandas in the next major release of pandas (pandas 3.0),\n",
      "(to allow more performant data types, such as the Arrow string type, and better interoperability with other libraries)\n",
      "but was not found to be installed on your system.\n",
      "If this would cause problems for you,\n",
      "please provide us feedback at https://github.com/pandas-dev/pandas/issues/54466\n",
      "        \n",
      "  import pandas as pd\n",
      "C:\\Users\\behza\\AppData\\Local\\Temp\\ipykernel_39408\\3724256756.py:3: DtypeWarning: Columns (6,11,21,22) have mixed types. Specify dtype option on import or set low_memory=False.\n",
      "  df = pd.read_csv('data.csv')\n"
     ]
    }
   ],
   "source": [
    "import pandas as pd\n",
    "from openpyxl import load_workbook\n",
    "df = pd.read_csv('data.csv')"
   ]
  },
  {
   "cell_type": "code",
   "execution_count": 5,
   "metadata": {},
   "outputs": [],
   "source": [
    "df_daily=df[df[\"TIME_FORMAT\"]==\"P1D\"]\n",
    "df_daily=df_daily[[\"CURRENCY\",\"TIME_FORMAT\",\"TIME_PERIOD\",\"OBS_VALUE\"]]"
   ]
  },
  {
   "cell_type": "code",
   "execution_count": 6,
   "metadata": {},
   "outputs": [],
   "source": [
    "df_daily[\"date\"]=pd.to_datetime(df_daily[\"TIME_PERIOD\"])"
   ]
  },
  {
   "cell_type": "code",
   "execution_count": 7,
   "metadata": {},
   "outputs": [
    {
     "data": {
      "text/html": [
       "<div>\n",
       "<style scoped>\n",
       "    .dataframe tbody tr th:only-of-type {\n",
       "        vertical-align: middle;\n",
       "    }\n",
       "\n",
       "    .dataframe tbody tr th {\n",
       "        vertical-align: top;\n",
       "    }\n",
       "\n",
       "    .dataframe thead th {\n",
       "        text-align: right;\n",
       "    }\n",
       "</style>\n",
       "<table border=\"1\" class=\"dataframe\">\n",
       "  <thead>\n",
       "    <tr style=\"text-align: right;\">\n",
       "      <th></th>\n",
       "      <th>CURRENCY</th>\n",
       "      <th>TIME_FORMAT</th>\n",
       "      <th>TIME_PERIOD</th>\n",
       "      <th>OBS_VALUE</th>\n",
       "      <th>date</th>\n",
       "    </tr>\n",
       "  </thead>\n",
       "  <tbody>\n",
       "    <tr>\n",
       "      <th>36662</th>\n",
       "      <td>ARS</td>\n",
       "      <td>P1D</td>\n",
       "      <td>2000-01-13</td>\n",
       "      <td>1.02745</td>\n",
       "      <td>2000-01-13</td>\n",
       "    </tr>\n",
       "    <tr>\n",
       "      <th>36663</th>\n",
       "      <td>ARS</td>\n",
       "      <td>P1D</td>\n",
       "      <td>2000-01-14</td>\n",
       "      <td>1.02232</td>\n",
       "      <td>2000-01-14</td>\n",
       "    </tr>\n",
       "    <tr>\n",
       "      <th>36664</th>\n",
       "      <td>ARS</td>\n",
       "      <td>P1D</td>\n",
       "      <td>2000-01-17</td>\n",
       "      <td>1.00870</td>\n",
       "      <td>2000-01-17</td>\n",
       "    </tr>\n",
       "    <tr>\n",
       "      <th>36665</th>\n",
       "      <td>ARS</td>\n",
       "      <td>P1D</td>\n",
       "      <td>2000-01-18</td>\n",
       "      <td>1.00915</td>\n",
       "      <td>2000-01-18</td>\n",
       "    </tr>\n",
       "    <tr>\n",
       "      <th>36666</th>\n",
       "      <td>ARS</td>\n",
       "      <td>P1D</td>\n",
       "      <td>2000-01-19</td>\n",
       "      <td>1.01034</td>\n",
       "      <td>2000-01-19</td>\n",
       "    </tr>\n",
       "  </tbody>\n",
       "</table>\n",
       "</div>"
      ],
      "text/plain": [
       "      CURRENCY TIME_FORMAT TIME_PERIOD  OBS_VALUE       date\n",
       "36662      ARS         P1D  2000-01-13    1.02745 2000-01-13\n",
       "36663      ARS         P1D  2000-01-14    1.02232 2000-01-14\n",
       "36664      ARS         P1D  2000-01-17    1.00870 2000-01-17\n",
       "36665      ARS         P1D  2000-01-18    1.00915 2000-01-18\n",
       "36666      ARS         P1D  2000-01-19    1.01034 2000-01-19"
      ]
     },
     "execution_count": 7,
     "metadata": {},
     "output_type": "execute_result"
    }
   ],
   "source": [
    "df_daily.head()"
   ]
  },
  {
   "cell_type": "code",
   "execution_count": 9,
   "metadata": {},
   "outputs": [
    {
     "name": "stdout",
     "output_type": "stream",
     "text": [
      "The last day value:  1.0837\n",
      "The average value:  1.0905136363636365\n",
      "the average avlue of year:  1.0876034482758623\n"
     ]
    }
   ],
   "source": [
    "month = input(\"Please enter the month in number: \")\n",
    "year = input(\"Please enter the year: \")\n",
    "currencies = input(\"Please enter the currency: \")\n",
    "# for months:\n",
    "df_daily_filtered=df_daily[(df_daily[\"date\"].dt.month==int(month))&(df_daily[\"date\"].dt.year==int(year))]\n",
    "df_daily_filtered=df_daily_filtered[df_daily_filtered[\"CURRENCY\"]==currencies]\n",
    "average = df_daily_filtered[\"OBS_VALUE\"].mean()\n",
    "last_day=df_daily_filtered[\"OBS_VALUE\"].iloc[-1]\n",
    "\n",
    "#for year:\n",
    "df_daily_filtered_year=df_daily[(df_daily[\"date\"].dt.year==int(year))]\n",
    "df_daily_filtered_year=df_daily_filtered_year[df_daily_filtered_year[\"CURRENCY\"]==currencies]\n",
    "average_year = df_daily_filtered_year[\"OBS_VALUE\"].mean()\n",
    "\n",
    "workbook=load_workbook('exchange rates as per 310523-v1.xlsx')\n",
    "worksheet = workbook['recap']\n",
    "if currencies == 'BRL': \n",
    "    worksheet['Y12']=last_day\n",
    "    worksheet['Z12']=average\n",
    "    worksheet['AE12']=average_year\n",
    "if currencies == 'CAD': \n",
    "    worksheet['Y13']=last_day\n",
    "    worksheet['Z13']=average\n",
    "    worksheet['AE13']=average_year\n",
    "if currencies == 'CNY': \n",
    "    worksheet['Y14']=last_day\n",
    "    worksheet['Z14']=average\n",
    "    worksheet['AE14']=average_year\n",
    "if currencies == 'GBP': \n",
    "    worksheet['Y15']=last_day\n",
    "    worksheet['Z15']=average\n",
    "    worksheet['AE15']=average_year\n",
    "if currencies == 'HKD': \n",
    "    worksheet['Y16']=last_day\n",
    "    worksheet['Z16']=average\n",
    "    worksheet['AE16']=average_year\n",
    "if currencies == 'MYR': \n",
    "    worksheet['Y17']=last_day\n",
    "    worksheet['Z17']=average\n",
    "    worksheet['AE17']=average_year\n",
    "if currencies == 'RUB': \n",
    "    worksheet['Y18']=last_day\n",
    "    worksheet['Z18']=average\n",
    "    worksheet['AE18']=average_year    \n",
    "if currencies == 'SGD': \n",
    "    worksheet['Y19']=last_day\n",
    "    worksheet['Z19']=average\n",
    "    worksheet['AE19']=average_year\n",
    "if currencies == 'TWD': \n",
    "    worksheet['Y20']=last_day\n",
    "    worksheet['Z20']=average\n",
    "    worksheet['AE20']=average_year\n",
    "if currencies == 'USD': \n",
    "    worksheet['Y21']=last_day\n",
    "    worksheet['Z21']=average\n",
    "    worksheet['AE21']=average_year\n",
    "workbook.save('Hitec exchange rates as per 310523-v1.xlsx')\n",
    "print('The last day value: ',last_day)\n",
    "print('The average value: ',average)\n",
    "print ('the average avlue of year: ', average_year)"
   ]
  }
 ],
 "metadata": {
  "kernelspec": {
   "display_name": "Python 3",
   "language": "python",
   "name": "python3"
  },
  "language_info": {
   "codemirror_mode": {
    "name": "ipython",
    "version": 3
   },
   "file_extension": ".py",
   "mimetype": "text/x-python",
   "name": "python",
   "nbconvert_exporter": "python",
   "pygments_lexer": "ipython3",
   "version": "3.10.11"
  }
 },
 "nbformat": 4,
 "nbformat_minor": 2
}
